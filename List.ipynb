{
 "cells": [
  {
   "cell_type": "code",
   "execution_count": null,
   "id": "2916bd83-388a-4d6e-a0c2-6035a5538895",
   "metadata": {},
   "outputs": [],
   "source": [
    "mylist = [\"apple\", \"banana\", \"cherry\"]\n",
    "# List là 1 trong 4 kiểu giá trị thuộc collections class \n",
    "# Các elements trong list có trình tự , có thể thay đổi và có thể trùng lặp giá trị"
   ]
  },
  {
   "cell_type": "code",
   "execution_count": 6,
   "id": "321b6dc3-e5ab-488b-9762-f1f77950090f",
   "metadata": {},
   "outputs": [
    {
     "name": "stdout",
     "output_type": "stream",
     "text": [
      "3\n"
     ]
    }
   ],
   "source": [
    "# kiểm tra độ dài list\n",
    "lst = [1, '2', 'Banana']\n",
    "print(len(lst))"
   ]
  },
  {
   "cell_type": "code",
   "execution_count": 12,
   "id": "936e8292-4507-44dc-87c9-32c9fb5d8303",
   "metadata": {},
   "outputs": [
    {
     "name": "stdout",
     "output_type": "stream",
     "text": [
      "apple\n",
      "['banana', 'cherry']\n"
     ]
    }
   ],
   "source": [
    "# truy cập các phần tử trong list\n",
    "mylist = [\"apple\", \"banana\", \"cherry\"]\n",
    "print(mylist[0])\n",
    "\n",
    "# Range of index:\n",
    "print(mylist[1:3])"
   ]
  },
  {
   "cell_type": "code",
   "execution_count": 16,
   "id": "329ede63-b253-4c78-a503-589a3bf328ab",
   "metadata": {},
   "outputs": [
    {
     "name": "stdout",
     "output_type": "stream",
     "text": [
      "['apple', 'blackcurrant', 'cherry']\n",
      "['apple', 'blackcurrant', 'Banana', 'cherry']\n"
     ]
    }
   ],
   "source": [
    "# thay đổi value của 1 phần tử:\n",
    "thislist = [\"apple\", \"banana\", \"cherry\"]\n",
    "thislist[1] = \"blackcurrant\"\n",
    "print(thislist)\n",
    "\n",
    "# insert() \n",
    "thislist.insert(2, 'Banana')\n",
    "print(thislist)"
   ]
  },
  {
   "cell_type": "code",
   "execution_count": 18,
   "id": "256a5e26-579f-4c36-934c-fa099ab7b2d9",
   "metadata": {},
   "outputs": [
    {
     "name": "stdout",
     "output_type": "stream",
     "text": [
      "apple\n",
      "banana\n",
      "cherry\n"
     ]
    }
   ],
   "source": [
    "# loop in a list:\n",
    "thislist = [\"apple\", \"banana\", \"cherry\"]\n",
    "for x in thislist:\n",
    "  print(x)"
   ]
  },
  {
   "cell_type": "code",
   "execution_count": 22,
   "id": "45abc082-28f8-4de1-9832-506db160316f",
   "metadata": {},
   "outputs": [
    {
     "name": "stdout",
     "output_type": "stream",
     "text": [
      "apple\n",
      "banana\n",
      "cherry\n"
     ]
    }
   ],
   "source": [
    "# Loop through index\n",
    "thislist = [\"apple\", \"banana\", \"cherry\"]\n",
    "for i in range(len(thislist)):\n",
    "    print(thislist[i])"
   ]
  },
  {
   "cell_type": "markdown",
   "id": "bd03a4cc-d8b3-4120-959d-2d2cd9b4fbb9",
   "metadata": {},
   "source": [
    "##  List Comprehension "
   ]
  },
  {
   "cell_type": "code",
   "execution_count": 34,
   "id": "2a69f874-9082-428c-803d-64842ebb6e0a",
   "metadata": {},
   "outputs": [
    {
     "name": "stdout",
     "output_type": "stream",
     "text": [
      "['An', 'Hoa', 'Bao', 'Hung']\n"
     ]
    }
   ],
   "source": [
    "#là 1 cách để generate nhanh ra list \n",
    "my_lst =  ['An', 'Hoa', 'Bao','Hung']\n",
    "newlist =  [x for x in my_lst]\n",
    "print(newlist)"
   ]
  },
  {
   "cell_type": "code",
   "execution_count": 40,
   "id": "5d7141d0-ef06-4b32-960a-15d8fd091f88",
   "metadata": {},
   "outputs": [
    {
     "name": "stdout",
     "output_type": "stream",
     "text": [
      "['banana', 'kiwi', 'mango', 'orange', 'pineapple']\n",
      "['pineapple', 'orange', 'mango', 'kiwi', 'banana']\n"
     ]
    }
   ],
   "source": [
    "# Sắp xếp list theo thứ tự Alpha:\n",
    "thislist = [\"orange\", \"mango\", \"kiwi\", \"pineapple\", \"banana\"]\n",
    "thislist.sort()\n",
    "print(thislist)\n",
    "\n",
    "# Sắp xếp ngược - Sort Decending\n",
    "thislist.sort(reverse= True)\n",
    "print(thislist)"
   ]
  },
  {
   "cell_type": "code",
   "execution_count": 44,
   "id": "91497a1b-6867-40e1-9e38-7701c94d6ee6",
   "metadata": {},
   "outputs": [
    {
     "name": "stdout",
     "output_type": "stream",
     "text": [
      "[40, 25, 20, 12, 10]\n"
     ]
    }
   ],
   "source": [
    "# Customize Sort Function\n",
    "def myfunc(n):\n",
    "    return abs(n-50)\n",
    "num_list = [10, 12, 20, 40, 25]\n",
    "num_list.sort(key= myfunc)\n",
    "print(num_list)"
   ]
  },
  {
   "cell_type": "markdown",
   "id": "60ba1adc-4506-424b-bc6c-10d70d46382f",
   "metadata": {},
   "source": [
    "## List Methods:"
   ]
  },
  {
   "cell_type": "code",
   "execution_count": 52,
   "id": "c38879d9-37b1-42d3-81ed-c0324c54c4dc",
   "metadata": {},
   "outputs": [
    {
     "name": "stdout",
     "output_type": "stream",
     "text": [
      "[1, 2, 3, 4, 5]\n",
      "[1, 2, 3, 4, 5]\n",
      "[1, 3, 4, 5]\n",
      "[1, 3, 4]\n"
     ]
    }
   ],
   "source": [
    "#1. apend() - thêm element vào cuối list\n",
    "ls1 = [1, 2, 3, 4]\n",
    "ls1.append(5)\n",
    "print(ls1)\n",
    "\n",
    "#2. Copy 1 chuỗi \n",
    "ls2 = ls1.copy()\n",
    "print(ls2)\n",
    "\n",
    "#3. xoá element tại index được chỉ định \n",
    "ls1.pop(1)\n",
    "print(ls1)\n",
    "\n",
    "#4. Xoá element theo value\n",
    "ls1.remove(5)\n",
    "print(ls1)"
   ]
  },
  {
   "cell_type": "code",
   "execution_count": null,
   "id": "ad707b76-601c-4d7a-98cd-ed43126cda1f",
   "metadata": {},
   "outputs": [],
   "source": []
  }
 ],
 "metadata": {
  "kernelspec": {
   "display_name": "Python [conda env:base] *",
   "language": "python",
   "name": "conda-base-py"
  },
  "language_info": {
   "codemirror_mode": {
    "name": "ipython",
    "version": 3
   },
   "file_extension": ".py",
   "mimetype": "text/x-python",
   "name": "python",
   "nbconvert_exporter": "python",
   "pygments_lexer": "ipython3",
   "version": "3.12.7"
  }
 },
 "nbformat": 4,
 "nbformat_minor": 5
}
