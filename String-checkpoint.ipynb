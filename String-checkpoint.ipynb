{
 "cells": [
  {
   "cell_type": "markdown",
   "id": "ace866ad-7d2f-41ca-b24d-9ff6e88901dc",
   "metadata": {},
   "source": [
    "## String in Python"
   ]
  },
  {
   "cell_type": "code",
   "execution_count": null,
   "id": "b24c5900-8ebb-4087-9c42-1a32329e9c0f",
   "metadata": {},
   "outputs": [],
   "source": [
    "# String là 1 arrays của các characters \n",
    "# index được gắn từ 0 đến -1\n",
    "# String là immutable - khi thao tác với string là thực hiện trên 1 string mới mà không làm thay đổi string gốc"
   ]
  },
  {
   "cell_type": "code",
   "execution_count": 4,
   "id": "7dd9ca2d-df7a-4b3a-94d8-2117a25b7d15",
   "metadata": {},
   "outputs": [
    {
     "name": "stdout",
     "output_type": "stream",
     "text": [
      "Hello\n",
      "<class 'str'>\n"
     ]
    }
   ],
   "source": [
    "a = 'Hello'\n",
    "print(a)\n",
    "print(type(a))"
   ]
  },
  {
   "cell_type": "code",
   "execution_count": 6,
   "id": "4a103d3b-48ae-4b44-b798-502c8c3ebc74",
   "metadata": {},
   "outputs": [
    {
     "name": "stdout",
     "output_type": "stream",
     "text": [
      "Lorem ipsum dolor sit amet,\n",
      "consectetur adipiscing elit,\n",
      "sed do eiusmod tempor incididunt\n",
      "ut labore et dolore magna aliqua.\n"
     ]
    }
   ],
   "source": [
    "# Gán nhiều dòng cho 1 biến \n",
    "str = \"\"\"Lorem ipsum dolor sit amet,\n",
    "consectetur adipiscing elit,\n",
    "sed do eiusmod tempor incididunt\n",
    "ut labore et dolore magna aliqua.\"\"\"\n",
    "print(str)"
   ]
  },
  {
   "cell_type": "code",
   "execution_count": 18,
   "id": "2cc44f5d-4174-42f5-90ed-e18fa8016ccc",
   "metadata": {},
   "outputs": [
    {
     "name": "stdout",
     "output_type": "stream",
     "text": [
      "I am 19 years old"
     ]
    }
   ],
   "source": [
    "# Loop through a string\n",
    "my_str = 'I am 19 years old' \n",
    "for char in my_str:\n",
    "    print(char, end ='')"
   ]
  },
  {
   "cell_type": "code",
   "execution_count": 20,
   "id": "2bf94635-0897-40c8-949f-37def89146ed",
   "metadata": {},
   "outputs": [
    {
     "name": "stdout",
     "output_type": "stream",
     "text": [
      "17\n"
     ]
    }
   ],
   "source": [
    "# kiếm tra độ dài của chuỗi \n",
    "print(len(my_str))"
   ]
  },
  {
   "cell_type": "code",
   "execution_count": 30,
   "id": "ff4f4265-09b0-417c-b6fc-d572c260272c",
   "metadata": {},
   "outputs": [
    {
     "name": "stdout",
     "output_type": "stream",
     "text": [
      "True\n",
      "Không tồn tại\n"
     ]
    }
   ],
   "source": [
    "# keyword in kiểm tra xem 1 substr có tồn tại trong string gốc hay không \n",
    "# keyword not thì ngược lại\n",
    "if 'am' in my_str:\n",
    "    print(True)\n",
    "if 'Python' not in my_str: \n",
    "    print(\"Không tồn tại\")"
   ]
  },
  {
   "cell_type": "code",
   "execution_count": 42,
   "id": "b69ef293-26d2-452f-aa95-e2e5386e4669",
   "metadata": {},
   "outputs": [
    {
     "name": "stdout",
     "output_type": "stream",
     "text": [
      "Hello\n",
      "d\n",
      "s o\n"
     ]
    }
   ],
   "source": [
    "# Slicing \n",
    "mystr = \"Hello Python. I'm 19 years old\"\n",
    "print(mystr[0:5]) \n",
    "print(mystr[-1]) # last element\n",
    "print(mystr[-5:-2]) # Nagative Indexing"
   ]
  },
  {
   "cell_type": "code",
   "execution_count": 56,
   "id": "4b2550b1-8102-42db-a24b-a35076f4720d",
   "metadata": {},
   "outputs": [
    {
     "name": "stdout",
     "output_type": "stream",
     "text": [
      "Jello Python. I'm 19 years old\n",
      "['Hello', 'Python.', \"I'm\", '19', 'years', 'old']\n",
      "False\n",
      "False\n",
      "False\n"
     ]
    }
   ],
   "source": [
    "# String Methods \n",
    "#1. thay thế ký tự bằng 1 ký tự khác :\n",
    "print(mystr.replace('H', 'J'))\n",
    "\n",
    "#2.cắt chuỗi với split():\n",
    "print(mystr.split(' ')) # return a list \n",
    "\n",
    "#3. isalnum(), isalpha(), isdigit(),  : \n",
    "print(mystr.isalnum())\n",
    "print(mystr.isalpha())\n",
    "print(mystr.isdigit())\n",
    "\n",
    "#4. Concat using + or join():\n",
    "#5. Strip() - loại bỏ các ký tự hoặc whitespaces ở 2 đầu string:\n"
   ]
  },
  {
   "cell_type": "code",
   "execution_count": 58,
   "id": "ee4e27ec-f82c-4c4a-a5ed-0f0f7a1e328c",
   "metadata": {},
   "outputs": [
    {
     "name": "stdout",
     "output_type": "stream",
     "text": [
      "The price is 59 dollars\n"
     ]
    }
   ],
   "source": [
    "# Format string\n",
    "price = 59\n",
    "txt = f\"The price is {price} dollars\"\n",
    "print(txt)"
   ]
  },
  {
   "cell_type": "code",
   "execution_count": null,
   "id": "2e5a624d-6017-4d47-9092-da82c114d50c",
   "metadata": {},
   "outputs": [],
   "source": []
  }
 ],
 "metadata": {
  "kernelspec": {
   "display_name": "Python [conda env:base] *",
   "language": "python",
   "name": "conda-base-py"
  },
  "language_info": {
   "codemirror_mode": {
    "name": "ipython",
    "version": 3
   },
   "file_extension": ".py",
   "mimetype": "text/x-python",
   "name": "python",
   "nbconvert_exporter": "python",
   "pygments_lexer": "ipython3",
   "version": "3.12.7"
  }
 },
 "nbformat": 4,
 "nbformat_minor": 5
}
