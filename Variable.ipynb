{
 "cells": [
  {
   "cell_type": "markdown",
   "id": "4963fcc9-cb3a-462b-8762-e42e63b24941",
   "metadata": {},
   "source": [
    "## Variable - Biến "
   ]
  },
  {
   "cell_type": "code",
   "execution_count": 7,
   "id": "f6bd7979-a3ac-4b26-8a1a-b4cd24e69295",
   "metadata": {},
   "outputs": [
    {
     "name": "stdout",
     "output_type": "stream",
     "text": [
      "5\n",
      "Python is the best\n"
     ]
    }
   ],
   "source": [
    "# Biến là khái niệm quan trọng trong Python \n",
    "# dùng để lưu trữ giá trị \n",
    "# Python không yêu cầu phải gán kiểu giá trị cho biến\n",
    "# Tên biến phải tuân thủ yêu cầu về Naming convention\n",
    "a =  5\n",
    "b = 'Python is the best' \n",
    "print(a)\n",
    "print(b)"
   ]
  },
  {
   "cell_type": "code",
   "execution_count": 9,
   "id": "197935a5-f4e7-46f8-a48b-960f8c113fbf",
   "metadata": {},
   "outputs": [
    {
     "name": "stdout",
     "output_type": "stream",
     "text": [
      "1 2 3\n"
     ]
    }
   ],
   "source": [
    "# gán nhiều giá trị cho nhiều biến cùng lúc \n",
    "a, b, c = 1, 2, 3\n",
    "print(a, b, c)"
   ]
  },
  {
   "cell_type": "code",
   "execution_count": 11,
   "id": "3921141c-3894-4165-b88f-c626eafdc6a1",
   "metadata": {},
   "outputs": [
    {
     "name": "stdout",
     "output_type": "stream",
     "text": [
      "100 100 100\n"
     ]
    }
   ],
   "source": [
    "# gán cùng 1 giá trị cho nhiều biến\n",
    "x = y = z = 100\n",
    "print(x, y, z)"
   ]
  },
  {
   "cell_type": "code",
   "execution_count": 13,
   "id": "269c304c-1f0f-4cde-8b2e-e53894283931",
   "metadata": {},
   "outputs": [
    {
     "name": "stdout",
     "output_type": "stream",
     "text": [
      "apple\n",
      "banana\n",
      "cherry\n"
     ]
    }
   ],
   "source": [
    "# Unpack a Collection \n",
    "fruits = [\"apple\", \"banana\", \"cherry\"]\n",
    "x, y, z = fruits\n",
    "print(x)\n",
    "print(y)\n",
    "print(z)"
   ]
  },
  {
   "cell_type": "code",
   "execution_count": 15,
   "id": "da519305-ba4c-482b-8044-0c132d84d689",
   "metadata": {},
   "outputs": [
    {
     "name": "stdout",
     "output_type": "stream",
     "text": [
      "Python is fantastic\n",
      "Python is awesome\n"
     ]
    }
   ],
   "source": [
    "# Variable Scope \n",
    "#1. Global Variable - Biến toàn cục có thể sử dụng trong phạm vi toàn bộ statment\n",
    "x = \"awesome\"\n",
    "\n",
    "def myfunc():\n",
    "  x = \"fantastic\" \n",
    "  print(\"Python is \" + x)\n",
    "\n",
    "myfunc()\n",
    "\n",
    "print(\"Python is \" + x)\n",
    "    "
   ]
  },
  {
   "cell_type": "code",
   "execution_count": 17,
   "id": "96e5d58d-cd40-41ed-9e5b-6e9bbccf4a52",
   "metadata": {},
   "outputs": [
    {
     "name": "stdout",
     "output_type": "stream",
     "text": [
      "Python is fantastic\n"
     ]
    }
   ],
   "source": [
    "# global keyword\n",
    "# để khởi tạo 1 biến global bên trong func dùng từ khoá global \n",
    "def myfunc():\n",
    "  global x\n",
    "  x = \"fantastic\"\n",
    "\n",
    "myfunc()\n",
    "\n",
    "print(\"Python is \" + x)"
   ]
  },
  {
   "cell_type": "code",
   "execution_count": null,
   "id": "657b9466-976f-4618-a822-fc94a7823e13",
   "metadata": {},
   "outputs": [],
   "source": []
  }
 ],
 "metadata": {
  "kernelspec": {
   "display_name": "Python [conda env:base] *",
   "language": "python",
   "name": "conda-base-py"
  },
  "language_info": {
   "codemirror_mode": {
    "name": "ipython",
    "version": 3
   },
   "file_extension": ".py",
   "mimetype": "text/x-python",
   "name": "python",
   "nbconvert_exporter": "python",
   "pygments_lexer": "ipython3",
   "version": "3.12.7"
  }
 },
 "nbformat": 4,
 "nbformat_minor": 5
}
