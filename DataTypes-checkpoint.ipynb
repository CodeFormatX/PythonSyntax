{
 "cells": [
  {
   "cell_type": "markdown",
   "id": "a783c716-fdca-4196-8b89-690a326c67dd",
   "metadata": {},
   "source": [
    "## DataTypes - Các kiểu dữ liệu trong Python\n",
    "<!-- \n",
    "Text Type:\tstr\n",
    "Numeric Types:\tint, float, complex\n",
    "Sequence Types:\tlist, tuple, range\n",
    "Mapping Type:\tdict\n",
    "Set Types:\tset, frozenset\n",
    "Boolean Type:\tbool\n",
    "Binary Types:\tbytes, bytearray, memoryview\n",
    "None Type:\tNoneType \n",
    "-->"
   ]
  },
  {
   "cell_type": "code",
   "execution_count": 2,
   "id": "287eb028-39e6-470a-9873-41a70bf11385",
   "metadata": {},
   "outputs": [
    {
     "name": "stdout",
     "output_type": "stream",
     "text": [
      "<class 'int'>\n",
      "<class 'str'>\n"
     ]
    }
   ],
   "source": [
    "# kiểm tra kiểu dữ liệu của biến \n",
    "a = 5\n",
    "b =  'Hello'\n",
    "print(type(a))\n",
    "print(type(b))"
   ]
  },
  {
   "cell_type": "code",
   "execution_count": null,
   "id": "7b1d6b8d-0717-41b4-a546-cc1b0a23d531",
   "metadata": {},
   "outputs": [],
   "source": [
    "# Setting the Specific Data Type\n",
    "# x = str(\"Hello World\")\tstr\t\n",
    "# x = int(20)\tint\t\n",
    "# x = float(20.5)\tfloat\t\n",
    "# x = complex(1j)\tcomplex\t\n",
    "# x = list((\"apple\", \"banana\", \"cherry\"))\tlist\t\n",
    "# x = tuple((\"apple\", \"banana\", \"cherry\"))\ttuple\t\n",
    "# x = range(6)\trange\t\n",
    "# x = dict(name=\"John\", age=36)\tdict\t\n",
    "# x = set((\"apple\", \"banana\", \"cherry\"))\tset\t\n",
    "# x = frozenset((\"apple\", \"banana\", \"cherry\"))\tfrozenset\t\n",
    "# x = bool(5)\tbool"
   ]
  }
 ],
 "metadata": {
  "kernelspec": {
   "display_name": "Python [conda env:base] *",
   "language": "python",
   "name": "conda-base-py"
  },
  "language_info": {
   "codemirror_mode": {
    "name": "ipython",
    "version": 3
   },
   "file_extension": ".py",
   "mimetype": "text/x-python",
   "name": "python",
   "nbconvert_exporter": "python",
   "pygments_lexer": "ipython3",
   "version": "3.12.7"
  }
 },
 "nbformat": 4,
 "nbformat_minor": 5
}
