{
 "cells": [
  {
   "cell_type": "markdown",
   "id": "61bb6c83-5bf5-41f6-8023-45b3721f1673",
   "metadata": {},
   "source": [
    "## Tuple"
   ]
  },
  {
   "cell_type": "code",
   "execution_count": 6,
   "id": "9986f785-a88e-4377-8f16-3bf2725c6fce",
   "metadata": {},
   "outputs": [
    {
     "name": "stdout",
     "output_type": "stream",
     "text": [
      "B\n"
     ]
    }
   ],
   "source": [
    "# là 1 tập hợp lưu trữ đc nhiều kiểu giá trị khác nhau \n",
    "# element trong tuple có chỉ mục(index) nhưng là bất biến (immutable), tức là không thể thêm , sửa, xoá các phần tử sau khi khởi tạo\n",
    "#Tuy là immutable nhưng tuple vẫn có thể truy cập phần tử theo chỉ mục tương tự như list hay string\n",
    "tup = ('An', 'B', 1)\n",
    "print(tup[1])"
   ]
  },
  {
   "cell_type": "code",
   "execution_count": 8,
   "id": "68948d40-21a2-469c-8268-f23fd58d9a7b",
   "metadata": {},
   "outputs": [
    {
     "name": "stdout",
     "output_type": "stream",
     "text": [
      "('apple', 'kiwi', 'cherry')\n"
     ]
    }
   ],
   "source": [
    "# tuple tuy không thể thay đổi sau khi khởi tạo nhưng vẫn có cách để update lại giá trị của nó.\n",
    "# Bằng cách biến tuple thành list rồi sau đó update list và chuyển lại thành tuple\n",
    "x = (\"apple\", \"banana\", \"cherry\")\n",
    "y = list(x)\n",
    "y[1] = \"kiwi\"\n",
    "x = tuple(y)\n",
    "\n",
    "print(x)"
   ]
  },
  {
   "cell_type": "code",
   "execution_count": 10,
   "id": "895f3339-a947-4e59-818b-b15096bd947e",
   "metadata": {},
   "outputs": [
    {
     "name": "stdout",
     "output_type": "stream",
     "text": [
      "Apple\n",
      "banana\n",
      "cherry\n"
     ]
    }
   ],
   "source": [
    "# unpacking là kỹ thuật phổ biến khi sử dụng tuple \n",
    "my_tup = ('Apple', 'banana', 'cherry')\n",
    "(green, blue, red) = my_tup\n",
    "print(green)\n",
    "print(blue)\n",
    "print(red)"
   ]
  },
  {
   "cell_type": "code",
   "execution_count": 12,
   "id": "b39856c3-ca27-4e8f-868b-bc30e65b91cd",
   "metadata": {},
   "outputs": [
    {
     "name": "stdout",
     "output_type": "stream",
     "text": [
      "apple\n",
      "banana\n",
      "['cherry', 'strawberry', 'raspberry']\n"
     ]
    }
   ],
   "source": [
    "# nếu có nhiều hơn 1 giá trị cho 1 biến ta có thể sử dụng *\n",
    "fruits = (\"apple\", \"banana\", \"cherry\", \"strawberry\", \"raspberry\")\n",
    "\n",
    "(green, yellow, *red) = fruits\n",
    "\n",
    "print(green)\n",
    "print(yellow)\n",
    "print(red)"
   ]
  },
  {
   "cell_type": "code",
   "execution_count": 18,
   "id": "ef1f73f2-7740-4898-923e-88a5f47396c1",
   "metadata": {},
   "outputs": [
    {
     "data": {
      "text/plain": [
       "2"
      ]
     },
     "execution_count": 18,
     "metadata": {},
     "output_type": "execute_result"
    }
   ],
   "source": [
    "# tuple method \n",
    "#1. count() - đếm số lần xuất hiện của phần tử trong tuple\n",
    "fruits = (\"apple\", \"banana\", \"cherry\", \"strawberry\", \"raspberry\", 'apple')\n",
    "fruits.count('apple')"
   ]
  },
  {
   "cell_type": "code",
   "execution_count": null,
   "id": "d8ce0c94-d36f-4e79-8bd2-ed36840e0b50",
   "metadata": {},
   "outputs": [],
   "source": []
  }
 ],
 "metadata": {
  "kernelspec": {
   "display_name": "Python [conda env:base] *",
   "language": "python",
   "name": "conda-base-py"
  },
  "language_info": {
   "codemirror_mode": {
    "name": "ipython",
    "version": 3
   },
   "file_extension": ".py",
   "mimetype": "text/x-python",
   "name": "python",
   "nbconvert_exporter": "python",
   "pygments_lexer": "ipython3",
   "version": "3.12.7"
  }
 },
 "nbformat": 4,
 "nbformat_minor": 5
}
