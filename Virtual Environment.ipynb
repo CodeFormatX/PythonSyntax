{
 "cells": [
  {
   "cell_type": "markdown",
   "id": "1c54b90e-1925-4931-87b3-208feb9599fb",
   "metadata": {},
   "source": [
    "## Python Virtual Environment - Môi trường ảo trong Python\n",
    "Hiểu đơn giản VE cho phép cài đặt hàng loạt các phiên bản khác nhau của các packages mà không làm ảnh hưởng tới các dự án khác"
   ]
  },
  {
   "cell_type": "markdown",
   "id": "777b2712-54ff-4cd2-af41-93e659bfe0cd",
   "metadata": {},
   "source": [
    "# Cài đặt môi trường\n",
    "pip install virtualenv # cài đặt môi trường virtualenv\n",
    "\n",
    "<!-- $ virtualenv [project_name]  -->\n",
    "$ virtualenv [project_name]"
   ]
  },
  {
   "cell_type": "code",
   "execution_count": null,
   "id": "374726bb-8676-4ed9-a747-3d8a3280f9aa",
   "metadata": {},
   "outputs": [],
   "source": [
    "#tạo một Virtual Environment mà không có các packages đã được cài đặt sẵn (trong trường hợp bạn muốn làm mọi thứ từ đầu:\n",
    "virtualenv --no-site-packages [project_name]\n"
   ]
  },
  {
   "cell_type": "code",
   "execution_count": null,
   "id": "e44f0f1f-2a06-45d1-a52f-853afa89be22",
   "metadata": {},
   "outputs": [],
   "source": [
    "# Sử dụng environment\n",
    "$ source [project_name]/bin/activate\n",
    "\n",
    "#Thoát khỏi Virtual Environment\n",
    "\n",
    "Sử dụng câu lệnh\n",
    "\n",
    "$ deactivate"
   ]
  }
 ],
 "metadata": {
  "kernelspec": {
   "display_name": "Python [conda env:base] *",
   "language": "python",
   "name": "conda-base-py"
  },
  "language_info": {
   "codemirror_mode": {
    "name": "ipython",
    "version": 3
   },
   "file_extension": ".py",
   "mimetype": "text/x-python",
   "name": "python",
   "nbconvert_exporter": "python",
   "pygments_lexer": "ipython3",
   "version": "3.12.7"
  }
 },
 "nbformat": 4,
 "nbformat_minor": 5
}
